{
 "cells": [
  {
   "cell_type": "markdown",
   "id": "7b9e91a7-5e8e-4266-aed2-efcbd4292c6b",
   "metadata": {},
   "source": [
    "## Analyzing Birth Statistics in California fro Medi Cal Patients\n",
    "Salma Ibrahim, Dalia Cruz, Lisette Vasquez Perez\n",
    "\n",
    "## Project Overview\n",
    "\n",
    "In this project, we aim to design and implement a modular, reusable software system for analyzing real-world birth statistics data from California. Our focus is to apply **functional** and **object-oriented programming (OOP)** concepts in building a structured data analysis tool that can load, clean, transform, and visualize key patterns in the dataset.\n",
    "\n",
    "We will also extract insights that answer meaningful public health questions related to maternal and infant health, while ensuring our code is clean, maintainable, and easy to test.\n",
    "\n",
    "## 🎯 Goals and Learning Outcomes\n",
    "\n",
    "- Enhance problem-solving and critical thinking through real-world data exploration.\n",
    "- Apply **data cleaning**, **missing value handling**, and **data transformation** techniques.\n",
    "- Perform **exploratory data analysis (EDA)** to identify trends and correlations.\n",
    "- Utilize **object-oriented programming** to structure analysis tasks into reusable classes.\n",
    "- Leverage **functional programming** (e.g., lambda functions, `map`, `filter`) for data transformation.\n",
    "- Create clear and compelling **visualizations** using `pandas`, `matplotlib`, and `seaborn`.\n",
    "- Design clean, modular code using separation of concerns and reusable components.\n",
    "- Use **UML diagrams** to communicate program architecture and design.\n",
    "\n",
    "## 🧾 Dataset Background\n",
    "\n",
    "- **Dataset**: Medi-Cal Birth Statistics by Select Characteristics  \n",
    "- **Source**: [data.ca.gov](https://catalog.data.gov/dataset/medi-cal-birth-statistics-by-select-characteristics-and-california-resident-hospital-birth-caf33)\n",
    "- **Format**: CSV\n",
    "- **Features include**:\n",
    "  - Mother's age\n",
    "  - Mother's healh details\n",
    "  - Mother's socioeconomical details\n",
    "  - Birth weight\n",
    "  - Prenatal care received\n",
    "  - Delivery method\n",
    "  - Infant health outcomes\n",
    "  - Insurance type (e.g., Medi-Cal)\n",
    "\n",
    "We chose this dataset because it reflects important real-world issues in maternal and infant health, which can inform healthcare policy, patient outreach, and education.\n",
    "\n",
    "---\n",
    "\n",
    "## ❓ Research Questions We Aim to Explore\n",
    "\n",
    "1. Does maternal age impact birth outcomes (e.g., birth weight)?\n",
    "2. Is there a difference in outcomes between Medi-Cal and non-Medi-Cal patients?\n",
    "3. How does the number of prenatal care visits affect delivery method or outcome?\n",
    "4. Are there regional differences in birth statistics within California?\n",
    "5. What trends exist over time (e.g., changes in delivery methods or prenatal care)?\n",
    "\n",
    "---\n",
    "\n",
    "## 🔧 Planned Implementation Approach\n",
    "\n",
    "- **Data Cleaning**:\n",
    "      \n",
    "  - Remove or impute missing data\n",
    "  - Megre appropriate data sets\n",
    "  - Standardize column names and data types\n",
    "\n",
    "- **Object-Oriented Components**:\n",
    "  - `DataLoader` class to handle file loading and basic preprocessing\n",
    "  - `Analyzer` class to compute descriptive statistics and correlations\n",
    "  - `Visualizer` class to produce all relevant plots\n",
    "\n",
    "- **Functional Programming**:\n",
    "  - Use `lambda`, `map`, `filter`, and higher-order functions for data transformation\n",
    "  - Modular design for reusability across different datasets\n",
    "\n",
    "- **Planned Visualizations**:\n",
    "  - Histograms and box plots of birth weight and maternal age\n",
    "  - Bar charts for categorical features\n",
    "  - Heatmap of correlations\n",
    "\n",
    "---\n",
    "\n",
    "## 📈 Expected Results and Challenges\n",
    "\n",
    "We expect to uncover statistically significant relationships between demographic or care-related factors and birth outcomes. Potential challenges include:\n",
    "- Incomplete or inconsistent data\n",
    "- Bias in reported metrics (e.g., underreporting)\n",
    "- Limited documentation\n",
    "\n",
    "\n",
    "## 📚 References\n",
    "\n",
    "- Dataset: https://catalog.data.gov/dataset/medi-cal-birth-statistics-by-select-characteristics-and-california-resident-hospital-birth-caf33\n"
   ]
  },
  {
   "cell_type": "code",
   "execution_count": null,
   "id": "aa9aa7a0-6bd3-4aaa-8a6f-ff55ffe2a1c2",
   "metadata": {},
   "outputs": [],
   "source": [
    "## Imports and Setup \n",
    "import pandas as pd\n",
    "import numpy as np\n",
    "import matplotlib.pyplot as plt\n",
    "import seaborn as sns"
   ]
  },
  {
   "cell_type": "code",
   "execution_count": null,
   "id": "c3b038ae-b38e-4f1b-883c-5326add725cb",
   "metadata": {},
   "outputs": [],
   "source": [
    "##Loading and previewing data\n",
    "df = pd.read_csv('your_dataset.csv')\n",
    "df.head()\n"
   ]
  },
  {
   "cell_type": "code",
   "execution_count": null,
   "id": "4506d645-4d24-4929-95bd-088218d42d80",
   "metadata": {},
   "outputs": [],
   "source": [
    "## Cleaning data\n",
"# Filter for low birthweight-related outcomes\n",
"low_bw = q2[q2["Birth Characteristic"].str.contains("low birth", case=False, na=False)]\n",

"# Filter for preterm-related outcomes\n",
"preterm = q2[q2["Birth Characteristic"].str.contains("preterm", case=False, na=False)]\n",

"# Summarize low birthweight by education\n",
"low_bw_summary = low_bw.groupby("Grouper Value")["Number of Births"].sum().sort_values()\n",

"# Summarize preterm by education\n",
"preterm_summary = preterm.groupby("Grouper Value")["Number of Births"].sum().sort_values()\n"

   ]
  },
  {
   "cell_type": "code",
   "execution_count": null,
   "id": "6059065e-6c43-4803-93be-967b4d3b9343",
   "metadata": {},
   "outputs": [],
   "source": [
    "## Cleaning data"
   ]
  },
  {
   "cell_type": "code",
   "execution_count": null,
   "id": "439559cc-5970-477d-89ec-b8a4867afd54",
   "metadata": {},
   "outputs": [],
   "source": [
    "## Cleaning data"
   ]
  },
  {
   "cell_type": "code",
   "execution_count": null,
   "id": "688e7714-2514-497e-8263-ff14ccd7d7ef",
   "metadata": {},
   "outputs": [],
   "source": [
    "## Exploritory Data Analysis"
   ]
  },
  {
   "cell_type": "code",
   "execution_count": null,
   "id": "d14780cf-8cd7-4aad-b9b5-6e49d734fdcc",
   "metadata": {},
   "outputs": [],
   "source": [
    "## Exploritory Data Analysis"
   ]
  },
  {
   "cell_type": "code",
   "execution_count": null,
   "id": "7fa3596f-a842-428f-9cbb-c990fb4ac520",
   "metadata": {},
   "outputs": [],
   "source": [
    "## Exploritory Data Analysis"
   ]
  },
  {
   "cell_type": "code",
   "execution_count": null,
   "id": "14bd3106-9c19-4900-bc8c-b7171e469f7b",
   "metadata": {},
   "outputs": [],
   "source": [
    "## Exploritory Data Analysis"
   ]
  },
  {
   "cell_type": "code",
   "execution_count": null,
   "id": "d14540c2-25f0-4fb0-815d-7d37bcd6802f",
   "metadata": {},
   "outputs": [],
   "source": [
    "##Questions to be answered with data"
   ]
  },
  {
   "cell_type": "code",
   "execution_count": null,
   "id": "753f0695-af96-46de-a9b3-96fbd620c80d",
   "metadata": {},
   "outputs": [],
   "source": [
    "##Questions to be answered with data"
   ]
  },
  {
   "cell_type": "code",
   "execution_count": null,
   "id": "2fdbe4e8-9bc7-404c-9cf9-24cfaecc4dc7",
   "metadata": {},
   "outputs": [],
   "source": [
    "##Questions to be answered with data"
   ]
  },
  {
   "cell_type": "code",
   "execution_count": null,
   "id": "5ffc939c-7af5-4d22-ae63-956dc5d863c5",
   "metadata": {},
   "outputs": [],
   "source": [
    "##Questions to be answered with data"
   ]
  },
  {
   "cell_type": "code",
   "execution_count": null,
   "id": "e992412b-8b16-4a5d-a907-3e758a8c04d6",
   "metadata": {},
   "outputs": [],
   "source": [
    "##Questions to be answered with data"
   ]
  },
  {
   "cell_type": "code",
   "execution_count": null,
   "id": "1bd16a98-15c9-466c-90d5-bcfe8bc081fb",
   "metadata": {},
   "outputs": [],
   "source": [
    "##Visualisations Summary"
   ]
  },
  {
   "cell_type": "code",
   "execution_count": null,
   "id": "b142a751-2cfc-4773-97f2-c7631e323404",
   "metadata": {},
   "outputs": [],
   "source": [
    "##Visualisations Summary"
   ]
  },
  {
   "cell_type": "code",
   "execution_count": null,
   "id": "b4c31ddd-5b2f-4cda-9104-7d2363ab784e",
   "metadata": {},
   "outputs": [],
   "source": [
    "##Visualisations Summary"
   ]
  },
  {
   "cell_type": "code",
   "execution_count": null,
   "id": "554afb44-77bd-4afa-a736-752b21878d57",
   "metadata": {},
   "outputs": [],
   "source": [
    "##Visualisations Summary"
   ]
  },
  {
   "cell_type": "code",
   "execution_count": null,
   "id": "96d992bc-0a78-4a0c-91f3-0f10a7406b31",
   "metadata": {},
   "outputs": [],
   "source": [
    "##Conclusions"
   ]
  }
 ],
 "metadata": {
  "kernelspec": {
   "display_name": "Python 3 (ipykernel)",
   "language": "python",
   "name": "python3"
  },
  "language_info": {
   "codemirror_mode": {
    "name": "ipython",
    "version": 3
   },
   "file_extension": ".py",
   "mimetype": "text/x-python",
   "name": "python",
   "nbconvert_exporter": "python",
   "pygments_lexer": "ipython3",
   "version": "3.11.5"
  }
 },
 "nbformat": 4,
 "nbformat_minor": 5
}
